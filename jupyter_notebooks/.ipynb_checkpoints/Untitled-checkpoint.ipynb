{
 "cells": [
  {
   "cell_type": "code",
   "execution_count": 3,
   "metadata": {},
   "outputs": [
    {
     "ename": "ModuleNotFoundError",
     "evalue": "No module named 'seaborn'",
     "output_type": "error",
     "traceback": [
      "\u001b[0;31m---------------------------------------------------------------------------\u001b[0m",
      "\u001b[0;31mModuleNotFoundError\u001b[0m                       Traceback (most recent call last)",
      "\u001b[0;32m<ipython-input-3-72da22c526b0>\u001b[0m in \u001b[0;36m<module>\u001b[0;34m()\u001b[0m\n\u001b[1;32m      2\u001b[0m \u001b[0;32mimport\u001b[0m \u001b[0mpandas\u001b[0m \u001b[0;32mas\u001b[0m \u001b[0mpd\u001b[0m\u001b[0;34m\u001b[0m\u001b[0m\n\u001b[1;32m      3\u001b[0m \u001b[0;32mimport\u001b[0m \u001b[0mnumpy\u001b[0m \u001b[0;32mas\u001b[0m \u001b[0mnp\u001b[0m\u001b[0;34m\u001b[0m\u001b[0m\n\u001b[0;32m----> 4\u001b[0;31m \u001b[0;32mimport\u001b[0m \u001b[0mseaborn\u001b[0m\u001b[0;34m\u001b[0m\u001b[0m\n\u001b[0m",
      "\u001b[0;31mModuleNotFoundError\u001b[0m: No module named 'seaborn'"
     ]
    }
   ],
   "source": [
    "import os\n",
    "import pandas as pd\n",
    "import numpy as np"
   ]
  },
  {
   "cell_type": "code",
   "execution_count": null,
   "metadata": {},
   "outputs": [],
   "source": [
    "os.getcwd()"
   ]
  },
  {
   "cell_type": "code",
   "execution_count": null,
   "metadata": {},
   "outputs": [],
   "source": [
    "os.chdir('../..')"
   ]
  },
  {
   "cell_type": "code",
   "execution_count": null,
   "metadata": {},
   "outputs": [],
   "source": [
    "os.getcwd()"
   ]
  },
  {
   "cell_type": "code",
   "execution_count": null,
   "metadata": {},
   "outputs": [],
   "source": [
    "os.listdir()"
   ]
  },
  {
   "cell_type": "code",
   "execution_count": null,
   "metadata": {},
   "outputs": [],
   "source": [
    "os.chdir('heatmap_data')"
   ]
  },
  {
   "cell_type": "code",
   "execution_count": null,
   "metadata": {},
   "outputs": [],
   "source": [
    "os.listdir()"
   ]
  },
  {
   "cell_type": "code",
   "execution_count": null,
   "metadata": {},
   "outputs": [],
   "source": [
    "en_quest_table = pd.read_csv('Random_Data.csv', sep=';')\n",
    "en_quest_table.head()"
   ]
  },
  {
   "cell_type": "code",
   "execution_count": null,
   "metadata": {},
   "outputs": [],
   "source": [
    "set(en_quest_table.Timestamp)"
   ]
  },
  {
   "cell_type": "code",
   "execution_count": 4,
   "metadata": {},
   "outputs": [
    {
     "data": {
      "text/plain": [
       "<Figure size 640x480 with 1 Axes>"
      ]
     },
     "metadata": {},
     "output_type": "display_data"
    }
   ],
   "source": [
    "import matplotlib.pyplot as plt\n",
    "import numpy as np\n",
    "\n",
    "a = np.random.random((16, 16))\n",
    "plt.imshow(a, cmap='hot', interpolation='nearest')\n",
    "plt.show()"
   ]
  },
  {
   "cell_type": "code",
   "execution_count": 5,
   "metadata": {},
   "outputs": [
    {
     "data": {
      "image/png": "[encoded data removed]",
      "text/plain": [
       "<Figure size 432x288 with 1 Axes>"
      ]
     },
     "metadata": {},
     "output_type": "display_data"
    }
   ],
   "source": [
    "a = np.random.random((16, 16))\n",
    "plt.imshow(a, cmap='hot', interpolation='nearest')\n",
    "plt.show()"
   ]
  },
  {
   "cell_type": "code",
   "execution_count": 6,
   "metadata": {},
   "outputs": [
    {
     "data": {
      "text/plain": [
       "array([[0.01517242, 0.35574188, 0.06384097, 0.52049914, 0.263337  ,\n",
       "        0.98410377, 0.03533332, 0.80187909, 0.33085708, 0.26991972,\n",
       "        0.49231286, 0.59542754, 0.8924051 , 0.71146381, 0.3082205 ,\n",
       "        0.84670171],\n",
       "       [0.51775839, 0.28540632, 0.00370494, 0.90227928, 0.76251969,\n",
       "        0.9465102 , 0.07560477, 0.91363569, 0.86121416, 0.68244181,\n",
       "        0.2413368 , 0.31328151, 0.40531334, 0.2530302 , 0.95243766,\n",
       "        0.30439454],\n",
       "       [0.8653679 , 0.81661165, 0.3923304 , 0.77284004, 0.94134414,\n",
       "        0.87745698, 0.71419934, 0.41802347, 0.91655046, 0.45508783,\n",
       "        0.90610263, 0.67665928, 0.37361079, 0.32575381, 0.60125096,\n",
       "        0.06768716],\n",
       "       [0.3199085 , 0.22951723, 0.23311058, 0.86636174, 0.73203855,\n",
       "        0.96389272, 0.05887764, 0.78083924, 0.0110207 , 0.39296113,\n",
       "        0.14218901, 0.0698384 , 0.23132077, 0.46144478, 0.58821271,\n",
       "        0.81716518],\n",
       "       [0.74137593, 0.71215773, 0.52179306, 0.39723703, 0.17677695,\n",
       "        0.77232371, 0.01796436, 0.73498724, 0.81193847, 0.6616028 ,\n",
       "        0.98255301, 0.66281601, 0.25500193, 0.42263299, 0.64852815,\n",
       "        0.7659593 ],\n",
       "       [0.97047288, 0.58332588, 0.52906227, 0.39419558, 0.87655545,\n",
       "        0.54837112, 0.53568759, 0.60061756, 0.49519639, 0.35119144,\n",
       "        0.05691138, 0.83135079, 0.6244263 , 0.06328657, 0.18392485,\n",
       "        0.80715368],\n",
       "       [0.4321471 , 0.92426339, 0.68524156, 0.95640366, 0.94562932,\n",
       "        0.35834076, 0.37892201, 0.58246386, 0.21516019, 0.90173406,\n",
       "        0.64457854, 0.1612841 , 0.47358712, 0.83090558, 0.81357225,\n",
       "        0.95736515],\n",
       "       [0.9003741 , 0.11513329, 0.15683904, 0.29565181, 0.16964794,\n",
       "        0.35811259, 0.41942411, 0.15484451, 0.13156645, 0.27469438,\n",
       "        0.23232746, 0.70670905, 0.37739276, 0.84059786, 0.40757881,\n",
       "        0.96677233],\n",
       "       [0.33560652, 0.88639595, 0.43759219, 0.39422585, 0.50433324,\n",
       "        0.77211827, 0.22514563, 0.41134735, 0.20301199, 0.59030955,\n",
       "        0.43078962, 0.35773446, 0.65442426, 0.61632361, 0.17455503,\n",
       "        0.85579901],\n",
       "       [0.82516614, 0.23233628, 0.90929869, 0.59486114, 0.68636966,\n",
       "        0.28185745, 0.8338265 , 0.1518644 , 0.22481237, 0.84296796,\n",
       "        0.89304946, 0.46206209, 0.79369915, 0.81811371, 0.60052062,\n",
       "        0.59248156],\n",
       "       [0.8415642 , 0.30981013, 0.05841538, 0.11771379, 0.84428373,\n",
       "        0.31740511, 0.26293287, 0.85125957, 0.76851024, 0.31648874,\n",
       "        0.472382  , 0.98724832, 0.37124828, 0.43279601, 0.27554179,\n",
       "        0.05700371],\n",
       "       [0.38692995, 0.34213323, 0.11794964, 0.44980316, 0.3399931 ,\n",
       "        0.80066413, 0.07069778, 0.51616867, 0.14241257, 0.90645492,\n",
       "        0.39297532, 0.46392294, 0.37494491, 0.57114884, 0.76702697,\n",
       "        0.69911143],\n",
       "       [0.35505349, 0.46140928, 0.84589289, 0.62159707, 0.12110828,\n",
       "        0.44708667, 0.69507394, 0.2172541 , 0.00956341, 0.21678285,\n",
       "        0.83411349, 0.54086849, 0.52644743, 0.660756  , 0.22008929,\n",
       "        0.15478885],\n",
       "       [0.66554337, 0.34951035, 0.43309116, 0.03825449, 0.138669  ,\n",
       "        0.18956021, 0.59940282, 0.46976   , 0.12592927, 0.57160547,\n",
       "        0.10950054, 0.22427411, 0.40283261, 0.24091058, 0.73339511,\n",
       "        0.06459856],\n",
       "       [0.30351327, 0.27399783, 0.2057899 , 0.60101782, 0.03090459,\n",
       "        0.91804939, 0.72063652, 0.16302034, 0.25326836, 0.05374295,\n",
       "        0.47077041, 0.70567666, 0.20669894, 0.58254465, 0.07870604,\n",
       "        0.67533463],\n",
       "       [0.15599958, 0.80345831, 0.86118163, 0.36337748, 0.4401366 ,\n",
       "        0.96552254, 0.61166394, 0.17782883, 0.57446636, 0.91586922,\n",
       "        0.35130637, 0.22775671, 0.33013239, 0.1516833 , 0.17783518,\n",
       "        0.33055533]])"
      ]
     },
     "execution_count": 6,
     "metadata": {},
     "output_type": "execute_result"
    }
   ],
   "source": [
    "a"
   ]
  },
  {
   "cell_type": "code",
   "execution_count": null,
   "metadata": {},
   "outputs": [],
   "source": []
  }
 ],
 "metadata": {
  "kernelspec": {
   "display_name": "Python 3",
   "language": "python",
   "name": "python3"
  },
  "language_info": {
   "codemirror_mode": {
    "name": "ipython",
    "version": 3
   },
   "file_extension": ".py",
   "mimetype": "text/x-python",
   "name": "python",
   "nbconvert_exporter": "python",
   "pygments_lexer": "ipython3",
   "version": "3.6.5"
  }
 },
 "nbformat": 4,
 "nbformat_minor": 2
}
